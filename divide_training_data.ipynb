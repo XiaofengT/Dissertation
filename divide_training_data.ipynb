{
 "cells": [
  {
   "cell_type": "code",
   "execution_count": 1,
   "id": "88b81840",
   "metadata": {},
   "outputs": [],
   "source": [
    "import os\n",
    "import random\n",
    "import numpy as np"
   ]
  },
  {
   "cell_type": "code",
   "execution_count": 33,
   "id": "38961463",
   "metadata": {},
   "outputs": [],
   "source": [
    "trainingData = [];\n",
    "evaluationData =[];\n",
    "with open(\"D:/UCL_Study/A_postgraduate_research/data/field1_classifypoint/training data.txt\") as txtData:\n",
    "    lines = txtData.readlines()\n",
    "for line in lines:\n",
    "    lineData=line.strip().split(',')\n",
    "    if random.random()<0.7:\n",
    "        trainingData.append(lineData)\n",
    "\n",
    "    else:\n",
    "        evaluationData.append(lineData)"
   ]
  },
  {
   "cell_type": "code",
   "execution_count": 34,
   "id": "305d0bee",
   "metadata": {},
   "outputs": [
    {
     "data": {
      "text/plain": [
       "281309"
      ]
     },
     "execution_count": 34,
     "metadata": {},
     "output_type": "execute_result"
    }
   ],
   "source": [
    "len(trainingData)"
   ]
  },
  {
   "cell_type": "code",
   "execution_count": 35,
   "id": "3fe62444",
   "metadata": {},
   "outputs": [
    {
     "data": {
      "text/plain": [
       "119995"
      ]
     },
     "execution_count": 35,
     "metadata": {},
     "output_type": "execute_result"
    }
   ],
   "source": [
    "len(evaluationData)"
   ]
  },
  {
   "cell_type": "code",
   "execution_count": 36,
   "id": "11b1500a",
   "metadata": {},
   "outputs": [],
   "source": [
    "with open('D:/UCL_Study/A_postgraduate_research/data/field1_classifypoint/TRAINING.txt', 'w') as t:\n",
    "    for i in trainingData:\n",
    "        t.write(i[0])\n",
    "        t.write('\\n')"
   ]
  },
  {
   "cell_type": "code",
   "execution_count": 37,
   "id": "4e89a854",
   "metadata": {},
   "outputs": [],
   "source": [
    "with open('D:/UCL_Study/A_postgraduate_research/data/field1_classifypoint/EVALUATION.txt', 'w') as t:\n",
    "    for i in evaluationData:\n",
    "        t.write(i[0])\n",
    "        t.write('\\n')"
   ]
  },
  {
   "cell_type": "code",
   "execution_count": null,
   "id": "38dbe5a3",
   "metadata": {},
   "outputs": [],
   "source": []
  }
 ],
 "metadata": {
  "kernelspec": {
   "display_name": "geo_env",
   "language": "python",
   "name": "geo_env"
  },
  "language_info": {
   "codemirror_mode": {
    "name": "ipython",
    "version": 3
   },
   "file_extension": ".py",
   "mimetype": "text/x-python",
   "name": "python",
   "nbconvert_exporter": "python",
   "pygments_lexer": "ipython3",
   "version": "3.9.7"
  }
 },
 "nbformat": 4,
 "nbformat_minor": 5
}
